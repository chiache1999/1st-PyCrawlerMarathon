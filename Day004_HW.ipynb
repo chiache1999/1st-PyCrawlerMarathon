{
 "nbformat": 4,
 "nbformat_minor": 2,
 "metadata": {
  "language_info": {
   "name": "python",
   "codemirror_mode": {
    "name": "ipython",
    "version": 3
   }
  },
  "orig_nbformat": 2,
  "file_extension": ".py",
  "mimetype": "text/x-python",
  "name": "python",
  "npconvert_exporter": "python",
  "pygments_lexer": "ipython3",
  "version": 3
 },
 "cells": [
  {
   "cell_type": "code",
   "execution_count": null,
   "metadata": {},
   "outputs": [],
   "source": [
    "#比較範例檔案中的「r.text」與「json.loads(r.text)」讀出來的內容有什麼差異\n",
    "'''\n",
    "type(r.text) = str\n",
    "type(json.loads(r.text)) = dict\n",
    "'''"
   ]
  },
  {
   "cell_type": "code",
   "execution_count": null,
   "metadata": {},
   "outputs": [],
   "source": [
    "#引入需要的套件\n",
    "import requests\n",
    "import json"
   ]
  },
  {
   "cell_type": "code",
   "execution_count": null,
   "metadata": {},
   "outputs": [],
   "source": [
    "#自行尋找一個合適的 API 接口做練習，並且查看其回傳內容\n",
    "r = requests.get('https://cat-fact.herokuapp.com/facts')\n",
    "data = json.loads(r.text)\n",
    "\n",
    "print(data)"
   ]
  },
  {
   "cell_type": "code",
   "execution_count": null,
   "metadata": {},
   "outputs": [],
   "source": [
    "#測試讀出所有的text\n",
    "'''text = []\n",
    "print(len(data['all']))\n",
    "for i in range(1,len(data['all'])):\n",
    "    text.append(data['all'][i]['text'])'''"
   ]
  }
 ]
}