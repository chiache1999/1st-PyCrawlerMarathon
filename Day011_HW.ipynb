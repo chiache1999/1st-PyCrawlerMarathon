{
 "nbformat": 4,
 "nbformat_minor": 2,
 "metadata": {
  "language_info": {
   "name": "python",
   "codemirror_mode": {
    "name": "ipython",
    "version": 3
   }
  },
  "orig_nbformat": 2,
  "file_extension": ".py",
  "mimetype": "text/x-python",
  "name": "python",
  "npconvert_exporter": "python",
  "pygments_lexer": "ipython3",
  "version": 3
 },
 "cells": [
  {
   "cell_type": "code",
   "execution_count": null,
   "metadata": {},
   "outputs": [],
   "source": [
    "import re\n",
    "def RegexMatchingTest(regex, inputtext):\n",
    "    pattern = re.compile(regex)\n",
    "\n",
    "    result = re.search(pattern,inputtext)\n",
    "\n",
    "    if result:\n",
    "        print(\"Matched %s\" % (result.group()))\n",
    "\n",
    "        if result.lastindex is not None:\n",
    "            for i in range(0,result.lastindex+1):\n",
    "                print(\"group(%d):%s\"%(i,result.group(i)))\n",
    "    else:\n",
    "        print(\"Not matched\")  "
   ]
  },
  {
   "cell_type": "code",
   "execution_count": null,
   "metadata": {},
   "outputs": [],
   "source": [
    "#使得合法的id:[0-255].[0-255].[0-255].[0-255]\n",
    "#要先從最嚴格的開始比對，若一開始就符合的話，就會以最前面的那個為準\n",
    "regex = '(25[0-5]|2[0-4][0-9]|[01]?[0-9]?[0-9])\\.(25[0-5]|2[0-4][0-9]|[01]?[0-9]?[0-9])\\.(25[0-5]|2[0-4][0-9]|[01]?[0-9]?[0-9])\\.(25[0-5]|2[0-4][0-9]|[01]?[0-9]?[0-9])'\n",
    "test_string1 = \"Test IP 216.58.200.227\"\n",
    "RegexMatchingTest(regex,test_string1)\n",
    "test_string2 = \"Test IP 999.888.777.666\"\n",
    "RegexMatchingTest(regex,test_stringㄉ)"
   ]
  },
  {
   "cell_type": "code",
   "execution_count": null,
   "metadata": {},
   "outputs": [],
   "source": [
    "html_a_tag = \"<a href=https://movies.yahoo.com.tw/movietime_result.html/id=9467> 時刻表 </a>\"\n",
    "regex1 = 'a href=[^>]+'\n",
    "RegexMatchingTest(regex1, html_a_tag)"
   ]
  },
  {
   "cell_type": "code",
   "execution_count": null,
   "metadata": {},
   "outputs": [],
   "source": []
  }
 ]
}