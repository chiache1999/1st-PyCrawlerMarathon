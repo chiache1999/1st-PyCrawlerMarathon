{
 "nbformat": 4,
 "nbformat_minor": 2,
 "metadata": {
  "language_info": {
   "name": "python",
   "codemirror_mode": {
    "name": "ipython",
    "version": 3
   }
  },
  "orig_nbformat": 2,
  "file_extension": ".py",
  "mimetype": "text/x-python",
  "name": "python",
  "npconvert_exporter": "python",
  "pygments_lexer": "ipython3",
  "version": 3
 },
 "cells": [
  {
   "cell_type": "code",
   "execution_count": null,
   "metadata": {},
   "outputs": [],
   "source": [
    "import requests\n",
    "from bs4 import BeautifulSoup"
   ]
  },
  {
   "cell_type": "code",
   "execution_count": null,
   "metadata": {},
   "outputs": [],
   "source": [
    "class news:\n",
    "\n",
    "    def __init__(self,date,category,title):\n",
    "        self.date = date\n",
    "        self.category = category\n",
    "        self.title = title\n",
    "\n",
    "    def print_nicely(self):\n",
    "        return self.date,self.category,self.title"
   ]
  },
  {
   "cell_type": "code",
   "execution_count": null,
   "metadata": {},
   "outputs": [
    {
     "evalue": "Error: Jupyter server crashed. Unable to connect. \r\nError code from jupyter: 1",
     "output_type": "error"
    }
   ],
   "source": [
    "url = 'https://www.ettoday.net/news/news-list.htm'\n",
    "resp = requests.get(url)"
   ]
  },
  {
   "cell_type": "code",
   "execution_count": null,
   "metadata": {},
   "outputs": [],
   "source": [
    "soup = BeautifulSoup(resp.text,'lxml')"
   ]
  },
  {
   "cell_type": "code",
   "execution_count": null,
   "metadata": {},
   "outputs": [],
   "source": [
    "menu = soup.find('div',attrs = {'class':'part_list_2'})\n",
    "titles = menu.find_all('h3')\n",
    "news_list = []\n",
    "category_dict = {}\n",
    "for title in titles:\n",
    "    date = title.find('span').text\n",
    "    category = title.find('em').text\n",
    "    category_dict[category] = category_dict.get(category,0)+1\n",
    "    title_text = title.find('a').text\n",
    "    news_append = news(date,category,title_text)\n",
    "    news_list.append(news_append)\n",
    "print(category_dict) #各類別有幾則"
   ]
  },
  {
   "cell_type": "code",
   "execution_count": null,
   "metadata": {},
   "outputs": [],
   "source": []
  }
 ]
}