{
 "nbformat": 4,
 "nbformat_minor": 2,
 "metadata": {
  "language_info": {
   "name": "python",
   "codemirror_mode": {
    "name": "ipython",
    "version": 3
   }
  },
  "orig_nbformat": 2,
  "file_extension": ".py",
  "mimetype": "text/x-python",
  "name": "python",
  "npconvert_exporter": "python",
  "pygments_lexer": "ipython3",
  "version": 3
 },
 "cells": [
  {
   "cell_type": "code",
   "execution_count": null,
   "metadata": {},
   "outputs": [],
   "source": [
    "#簡答題\n",
    "'''檔案、API、爬蟲的不同:\n",
    "1. 檔案資料會包成檔案提供下載，格式可能包含常⽤用的標準格式，例例如「CSV」、「JSON」等等通⽤用的格式。\n",
    "2. 開放接⼝（API）提供程式化的連接的接⼝，讓工程師/分析師可以選擇資料中要讀取的特定部分，而不需要把整批資料事先完整下載回來\n",
    "3. 網頁爬蟲資料沒有以檔案或 API 提供，但出現在網頁上。可以利用爬蟲程式，將網頁的資料解析所需的部分。\n",
    "前兩者是資料擁有者主動提供，後者則是被動'''"
   ]
  },
  {
   "cell_type": "code",
   "execution_count": null,
   "metadata": {},
   "outputs": [],
   "source": [
    "#實作\n",
    "#根據需求引入正確的Libary\n",
    "from urllib.request import urlretrieve\n",
    "import os,sys"
   ]
  },
  {
   "cell_type": "code",
   "execution_count": null,
   "metadata": {},
   "outputs": [],
   "source": [
    "#下載檔案到data資料夾，存檔為homework.txt\n",
    "try:\n",
    "    os.makedirs('./Data/',exist_ok=True)\n",
    "    urlretrieve(\"https://www.w3.org/TR/PNG/iso_8859-1.txt\", \"./Data/Homework.txt\")    \n",
    "except:\n",
    "    print('error')"
   ]
  },
  {
   "cell_type": "code",
   "execution_count": null,
   "metadata": {},
   "outputs": [],
   "source": [
    "#確認Data資料夾中有Homework.txt的檔案\n",
    "files = []\n",
    "dirs = os.listdir('./')\n",
    "for file in dirs:\n",
    "    files.append(file)\n",
    "\n",
    "if 'Homework.txt' in files:\n",
    "    print('[O] 檢查 Data 資料夾是否有 Homework.txt 檔名之檔案')\n",
    "else:\n",
    "    print('[X] 檢查 Data 資料夾是否有 Homework.txt 檔名之檔案')"
   ]
  },
  {
   "cell_type": "code",
   "execution_count": null,
   "metadata": {},
   "outputs": [],
   "source": [
    "#將'hello world'字串填寫到檔案中\n",
    "f =''\n",
    "with open(\"./Data/Homework.txt\", \"w\") as fh:\n",
    "    f = fh.write('Hello World')\n",
    "\n",
    "try:\n",
    "    with open(\"./Data/Homework.txt\",\"r\") as fh:\n",
    "        f = fh.read()\n",
    "        print(f)\n",
    "\n",
    "except EnvironmentError:\n",
    "    pass"
   ]
  },
  {
   "cell_type": "code",
   "execution_count": null,
   "metadata": {},
   "outputs": [],
   "source": [
    "#檢查檔案字數是否符合hello world\n",
    "\n",
    "if len('Hello World') == len(f):\n",
    "    print('[O] 檢查 Homework.txt 檔案字數是否符合 Hello World 字數')\n",
    "else:\n",
    "    print('[X] 檢查 Homework.txt 檔案字數是否符合 Hello World 字數')"
   ]
  }
 ]
}