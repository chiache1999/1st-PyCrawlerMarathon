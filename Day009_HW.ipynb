{
 "nbformat": 4,
 "nbformat_minor": 2,
 "metadata": {
  "language_info": {
   "name": "python",
   "codemirror_mode": {
    "name": "ipython",
    "version": 3
   }
  },
  "orig_nbformat": 2,
  "file_extension": ".py",
  "mimetype": "text/x-python",
  "name": "python",
  "npconvert_exporter": "python",
  "pygments_lexer": "ipython3",
  "version": 3
 },
 "cells": [
  {
   "cell_type": "code",
   "execution_count": null,
   "metadata": {},
   "outputs": [],
   "source": [
    "#引入套件\n",
    "import requests\n",
    "import os\n",
    "from bs4 import BeautifulSoup\n",
    "from PIL import Image"
   ]
  },
  {
   "cell_type": "code",
   "execution_count": null,
   "metadata": {},
   "outputs": [],
   "source": [
    "url = 'https://www.ptt.cc/bbs/Beauty/M.1556291059.A.75A.html'\n",
    "resp = requests.get(url,cookies = {'over18':'1'})\n",
    "soup = BeautifulSoup(resp.text,features=\"html.parser\")\n",
    "#print(soup.prettify())"
   ]
  },
  {
   "cell_type": "code",
   "execution_count": null,
   "metadata": {},
   "outputs": [],
   "source": [
    "#決定要儲存的資料夾\n",
    "output_dir = 'downloads'\n",
    "\n",
    "#假如資料夾不存在，就新增一個\n",
    "if not os.path.exists(output_dir):\n",
    "    os.makedirs(output_dir)"
   ]
  },
  {
   "cell_type": "code",
   "execution_count": null,
   "metadata": {},
   "outputs": [],
   "source": [
    "#定位所以圖片的tag\n",
    "image_tags = soup.find(id = 'main-content').findChildren('a',recursive = False)\n",
    "for img_tag in image_tags:\n",
    "    #print(img_tag)\n",
    "    #取得所有圖片在第三方服務的id\n",
    "    if 'imgur' not in img_tag['href']:\n",
    "        continue\n",
    "    img_id = img_tag['href'].split('/')[-1]\n",
    "    #組合圖片而非網站的網址\n",
    "    img_url = 'http://i.imgur.com/{}.jpg'.format(img_id)\n",
    "    #對圖片送出請求\n",
    "    with requests.get(img_url, stream = True) as r:\n",
    "        r.raise_for_status()\n",
    "        #檢查圖片副檔名\n",
    "        img = Image.open(r.raw)\n",
    "        img_savename = '{outdir}/{img_id}.{img_ext}'.format(outdir = output_dir, img_id = img_id, img_ext = img.format.lower())\n",
    "        img.save(img_savename)\n",
    "        print('save image{}'.format(img_savename))"
   ]
  }
 ]
}