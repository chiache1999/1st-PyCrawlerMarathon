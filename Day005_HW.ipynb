{
 "nbformat": 4,
 "nbformat_minor": 2,
 "metadata": {
  "language_info": {
   "name": "python",
   "codemirror_mode": {
    "name": "ipython",
    "version": 3
   }
  },
  "orig_nbformat": 2,
  "file_extension": ".py",
  "mimetype": "text/x-python",
  "name": "python",
  "npconvert_exporter": "python",
  "pygments_lexer": "ipython3",
  "version": 3
 },
 "cells": [
  {
   "cell_type": "code",
   "execution_count": null,
   "metadata": {},
   "outputs": [],
   "source": [
    "#引入套件\n",
    "import requests\n",
    "import json"
   ]
  },
  {
   "cell_type": "code",
   "execution_count": null,
   "metadata": {},
   "outputs": [],
   "source": [
    "#取得api\n",
    "r = requests.get('https://www.dcard.tw/_api/forums/pet/posts?popular=true')\n",
    "data = json.loads(r.text)"
   ]
  },
  {
   "cell_type": "code",
   "execution_count": null,
   "metadata": {},
   "outputs": [],
   "source": [
    "#1. 這個 API 一次會回傳幾筆資料？每一筆資料包含哪些欄位？\n",
    "print(len(data))\n",
    "print(data[0].keys())"
   ]
  },
  {
   "cell_type": "code",
   "execution_count": null,
   "metadata": {},
   "outputs": [],
   "source": [
    "#2. 取出每一筆資料的「標題」、「貼文時間」、「留言人數」、「按讚人數」\n",
    "data_we_want = {'title':[],'time':[],'commentcount':[],'likecount':[]}\n",
    "\n",
    "for i in range(len(data)):\n",
    "    data_we_want['title'].append(data[i]['title'])\n",
    "    data_we_want['time'].append(data[i]['createdAt'])\n",
    "    data_we_want['commentcount'].append(data[i]['commentCount'])\n",
    "    data_we_want['likecount'].append(data[i]['likeCount'])\n",
    "print(data_we_want)"
   ]
  },
  {
   "cell_type": "code",
   "execution_count": null,
   "metadata": {},
   "outputs": [],
   "source": [
    "#3. 計算熱門/非熱門文章的「平均留言人數」與「平均按讚人數」\n",
    "def average(num):\n",
    "    total = 0\n",
    "    for i in num:\n",
    "        total += i\n",
    "    return(total/len(num))        \n",
    "print(average(data_we_want['commentcount']))\n",
    "print(average(data_we_want['likecount']))\n"
   ]
  }
 ]
}