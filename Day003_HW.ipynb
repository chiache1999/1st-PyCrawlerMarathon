{
 "nbformat": 4,
 "nbformat_minor": 2,
 "metadata": {
  "language_info": {
   "name": "python",
   "codemirror_mode": {
    "name": "ipython",
    "version": 3
   }
  },
  "orig_nbformat": 2,
  "file_extension": ".py",
  "mimetype": "text/x-python",
  "name": "python",
  "npconvert_exporter": "python",
  "pygments_lexer": "ipython3",
  "version": 3
 },
 "cells": [
  {
   "cell_type": "code",
   "execution_count": null,
   "metadata": {},
   "outputs": [],
   "source": [
    "#比較一下範例檔案中的「File I/O」與「xmltodict」讀出來的內容有什麼差異\n",
    "'''File I/O 讀出來的形式是<title> </titile>\n",
    "xmltodict 讀出來的格式是 OrderedDict([title,content])'''"
   ]
  },
  {
   "cell_type": "code",
   "execution_count": null,
   "metadata": {},
   "outputs": [],
   "source": [
    "#import套件\n",
    "import urllib.request\n",
    "import zipfile\n",
    "import os, sys \n",
    "import xmltodict"
   ]
  },
  {
   "cell_type": "code",
   "execution_count": null,
   "metadata": {},
   "outputs": [],
   "source": [
    "#下載檔案\n",
    "res = \"http://opendata.cwb.gov.tw/govdownload?dataid=F-D0047-093&authorizationkey=rdec-key-123-45678-011121314\"\n",
    "urllib.request.urlretrieve(res, \"./data/example.zip\")\n",
    "f = zipfile.ZipFile('./data/example.zip')\n",
    "f.extractall('./data')"
   ]
  },
  {
   "cell_type": "code",
   "execution_count": null,
   "metadata": {},
   "outputs": [],
   "source": [
    "#打開資料夾\n",
    "dirs = os.listdir( './data' )"
   ]
  },
  {
   "cell_type": "code",
   "execution_count": null,
   "metadata": {},
   "outputs": [],
   "source": [
    "# 1. 請問高雄市有多少地區有溫度資料？\n",
    "with open('./data/64_72hr_CH.xml',encoding = 'utf8') as fd:\n",
    "    d = dict(xmltodict.parse(fd.read()))\n",
    "    print(len(d['cwbopendata']['dataset']['locations']['location'])) "
   ]
  },
  {
   "cell_type": "code",
   "execution_count": null,
   "metadata": {},
   "outputs": [],
   "source": [
    "# 2. 請取出每一個地區所記錄的第一個時間點跟溫度\n",
    "    for i in range(1,len(d['cwbopendata']['dataset']['locations']['location'])):\n",
    "        onedata = d['cwbopendata']['dataset']['locations']['location'][i]\n",
    "        place = onedata['locationName']\n",
    "        time = onedata['weatherElement'][0]['time'][0]['dataTime']\n",
    "        temp = onedata['weatherElement'][0]['time'][0]['elementValue']['value']\n",
    "        print(place,time,temp)"
   ]
  },
  {
   "cell_type": "code",
   "execution_count": null,
   "metadata": {},
   "outputs": [],
   "source": [
    "# 3. 請取出第一個地區所記錄的每一個時間點跟溫度\n",
    "    for i in range(1,len(d['cwbopendata']['dataset']['locations']['location'][0]['weatherElement'][0]['time'])):\n",
    "        thefirstregion = d['cwbopendata']['dataset']['locations']['location'][0]['weatherElement'][0]['time'][i]\n",
    "        time = thefirstregion['dataTime']\n",
    "        temp = thefirstregion['elementValue']['value']\n",
    "        print(time,temp)   \n"
   ]
  }
 ]
}