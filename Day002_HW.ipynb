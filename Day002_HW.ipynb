{
 "nbformat": 4,
 "nbformat_minor": 2,
 "metadata": {
  "language_info": {
   "name": "python",
   "codemirror_mode": {
    "name": "ipython",
    "version": 3
   }
  },
  "orig_nbformat": 2,
  "file_extension": ".py",
  "mimetype": "text/x-python",
  "name": "python",
  "npconvert_exporter": "python",
  "pygments_lexer": "ipython3",
  "version": 3
 },
 "cells": [
  {
   "cell_type": "code",
   "execution_count": null,
   "metadata": {},
   "outputs": [],
   "source": [
    "#比較一下範例檔案中的「File I/O」與「CSV Reader」讀出來的內容有什麼差異\n",
    "'''\n",
    "File I/O print 每一列出來的type是str，CSV Reader print 每一列出來的type是list\n",
    "'''"
   ]
  },
  {
   "cell_type": "code",
   "execution_count": null,
   "metadata": {},
   "outputs": [],
   "source": [
    "#import需要的libarary\n",
    "import urllib.request\n",
    "import os, sys\n",
    "import csv\n",
    "import json"
   ]
  },
  {
   "cell_type": "code",
   "execution_count": null,
   "metadata": {},
   "outputs": [],
   "source": [
    "#下載指定檔案\n",
    "res = \"http://opendata.hccg.gov.tw/dataset/432257df-491f-4875-8b56-dd814aee5d7b/resource/de014c8b-9b75-4152-9fc6-f0d499cefbe4/download/20150305140446074.csv\"\n",
    "urllib.request.urlretrieve(res, './Data/example.csv')"
   ]
  },
  {
   "cell_type": "code",
   "execution_count": null,
   "metadata": {},
   "outputs": [],
   "source": [
    "#開啟csv檔\n",
    "rawdata = []\n",
    "with open('./Data/example.csv', newline='',encoding='utf-8') as csvfile:\n",
    "    rows = csv.reader(csvfile)\n",
    "    for row in rows:\n",
    "        rawdata.append(row)\n",
    "    #print(rawdata)"
   ]
  },
  {
   "cell_type": "code",
   "execution_count": null,
   "metadata": {},
   "outputs": [],
   "source": [
    "#取出各班次的每一個時間，分別存取\n",
    "for i in range(1,len(rawdata)):\n",
    "    if i == 1: #避免多一個逗號\n",
    "        dict1 = {rawdata[0][5] : rawdata[i][5]}\n",
    "        dict2 = {rawdata[0][6] : rawdata[i][6]}\n",
    "        dict3 = {rawdata[0][7] : rawdata[i][7]}\n",
    "        dict4 = {rawdata[0][8] : rawdata[i][8]}\n",
    "        dict5 = {rawdata[0][9] : rawdata[i][9]}\n",
    "    else:\n",
    "        dict1[rawdata[0][5]] = str(dict1.get(rawdata[0][5])) + ' , '+ rawdata[i][5]\n",
    "        dict2[rawdata[0][6]] = str(dict2.get(rawdata[0][6])) + ' , '+ rawdata[i][6]\n",
    "        dict3[rawdata[0][7]] = str(dict3.get(rawdata[0][7])) + ' , '+ rawdata[i][7]\n",
    "        dict4[rawdata[0][8]] = str(dict4.get(rawdata[0][8])) + ' , '+ rawdata[i][8]\n",
    "        dict5[rawdata[0][9]] = str(dict5.get(rawdata[0][9])) + ' , '+ rawdata[i][9]"
   ]
  },
  {
   "cell_type": "code",
   "execution_count": null,
   "metadata": {},
   "outputs": [],
   "source": [
    "#將班次一到五與其所有時間用個別一種資料型態保存\n",
    "json_string1 = json.dumps(dict1, ensure_ascii=False)#避免變成亂碼\n",
    "json_string2 = json.dumps(dict2, ensure_ascii=False)\n",
    "json_string3 = json.dumps(dict3, ensure_ascii=False)\n",
    "json_string4 = json.dumps(dict4, ensure_ascii=False)\n",
    "json_string5 = json.dumps(dict5, ensure_ascii=False)"
   ]
  },
  {
   "cell_type": "code",
   "execution_count": null,
   "metadata": {},
   "outputs": [],
   "source": [
    "print(json_string1,json_string2,json_string3,json_string4,json_string5)"
   ]
  }
 ]
}